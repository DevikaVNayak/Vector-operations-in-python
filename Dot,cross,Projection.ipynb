{
  "nbformat": 4,
  "nbformat_minor": 0,
  "metadata": {
    "colab": {
      "provenance": []
    },
    "kernelspec": {
      "name": "python3",
      "display_name": "Python 3"
    },
    "language_info": {
      "name": "python"
    }
  },
  "cells": [
    {
      "cell_type": "code",
      "execution_count": 2,
      "metadata": {
        "id": "bw_iJ6lT6LNp"
      },
      "outputs": [],
      "source": [
        "import numpy as np"
      ]
    },
    {
      "cell_type": "markdown",
      "source": [
        "Dot product of two vectors"
      ],
      "metadata": {
        "id": "RUKwY4Y79H23"
      }
    },
    {
      "cell_type": "code",
      "source": [
        "a=np.array([2,3])\n",
        "b=np.array([4,4])\n",
        "a_dot_b=np.dot(a,b)\n"
      ],
      "metadata": {
        "id": "b-KLwGCx9KXt"
      },
      "execution_count": 3,
      "outputs": []
    },
    {
      "cell_type": "code",
      "source": [
        "print(a_dot_b)"
      ],
      "metadata": {
        "colab": {
          "base_uri": "https://localhost:8080/"
        },
        "id": "Uq2-EEMB9g4E",
        "outputId": "35430188-0ceb-4480-aca0-6036c94696c7"
      },
      "execution_count": 4,
      "outputs": [
        {
          "output_type": "stream",
          "name": "stdout",
          "text": [
            "20\n"
          ]
        }
      ]
    },
    {
      "cell_type": "code",
      "source": [
        "c=np.array([40,20,35])\n",
        "d=np.array([23,24,68])\n",
        "c_dot_d=np.dot(c,d)\n",
        "print(c_dot_d)"
      ],
      "metadata": {
        "colab": {
          "base_uri": "https://localhost:8080/"
        },
        "id": "YLBZ69Y59v1H",
        "outputId": "33380692-bf0c-4767-814a-556866f255de"
      },
      "execution_count": 5,
      "outputs": [
        {
          "output_type": "stream",
          "name": "stdout",
          "text": [
            "3780\n"
          ]
        }
      ]
    },
    {
      "cell_type": "markdown",
      "source": [
        "Cross product of 2 vectors"
      ],
      "metadata": {
        "id": "mINaU6Zo-bNz"
      }
    },
    {
      "cell_type": "code",
      "source": [
        "a=np.array([2,3])\n",
        "b=np.array([4,4])\n",
        "a_cross_b=np.cross(a,b)\n",
        "print(a_cross_b)"
      ],
      "metadata": {
        "colab": {
          "base_uri": "https://localhost:8080/"
        },
        "id": "3LTWw-LK-eyu",
        "outputId": "3fcb4284-de7b-4687-f1b7-d888a03cc507"
      },
      "execution_count": 6,
      "outputs": [
        {
          "output_type": "stream",
          "name": "stdout",
          "text": [
            "-4\n"
          ]
        }
      ]
    },
    {
      "cell_type": "code",
      "source": [
        "c=np.array([5,10,20])\n",
        "d=np.array([18,32,50])\n",
        "c_cross_d=np.cross(c,d)\n",
        "print(c_cross_d)"
      ],
      "metadata": {
        "colab": {
          "base_uri": "https://localhost:8080/"
        },
        "id": "N2VqhIi4-8iQ",
        "outputId": "da27d92e-ec76-4cf5-f35b-17d1bbd680d5"
      },
      "execution_count": 7,
      "outputs": [
        {
          "output_type": "stream",
          "name": "stdout",
          "text": [
            "[-140  110  -20]\n"
          ]
        }
      ]
    },
    {
      "cell_type": "markdown",
      "source": [
        "projection of \"a\" vector on \"b\" vector"
      ],
      "metadata": {
        "id": "t_g32tH3_mYv"
      }
    },
    {
      "cell_type": "code",
      "source": [
        "a=np.array([2,5])\n",
        "v=np.array([8,-6])\n",
        "#magnitude of \"v\" vector\n",
        "magnitude_v=np.sqrt(sum(v**2))\n",
        "proj_of_a_on_v=(np.dot(a,v)/magnitude_v**2)*v\n",
        "print('Projection of a vector on v vector',proj_of_a_on_v)"
      ],
      "metadata": {
        "colab": {
          "base_uri": "https://localhost:8080/"
        },
        "id": "ddG3SqEC_1C2",
        "outputId": "dc50d011-aea1-4253-edd3-5496b1bbb26e"
      },
      "execution_count": 9,
      "outputs": [
        {
          "output_type": "stream",
          "name": "stdout",
          "text": [
            "Projection of a vector on v vector [-1.12  0.84]\n"
          ]
        }
      ]
    },
    {
      "cell_type": "code",
      "source": [
        "a=np.array([23,45,62])\n",
        "v=np.array([45,82,67])\n",
        "#magnitude of \"v\" vector\n",
        "magnitude_v=np.sqrt(sum(v**2))\n",
        "proj_of_a_on_v=(np.dot(a,v)/magnitude_v**2)*v\n",
        "print('Projection of a vector on v vector',proj_of_a_on_v)"
      ],
      "metadata": {
        "colab": {
          "base_uri": "https://localhost:8080/"
        },
        "id": "IucPzHYF_qtT",
        "outputId": "20871800-9933-4d6d-f366-fbe0f679d3a1"
      },
      "execution_count": 10,
      "outputs": [
        {
          "output_type": "stream",
          "name": "stdout",
          "text": [
            "Projection of a vector on v vector [30.18242937 54.99909352 44.93828373]\n"
          ]
        }
      ]
    }
  ]
}