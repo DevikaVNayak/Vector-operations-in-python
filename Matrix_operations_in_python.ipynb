{
  "nbformat": 4,
  "nbformat_minor": 0,
  "metadata": {
    "colab": {
      "provenance": []
    },
    "kernelspec": {
      "name": "python3",
      "display_name": "Python 3"
    },
    "language_info": {
      "name": "python"
    }
  },
  "cells": [
    {
      "cell_type": "code",
      "execution_count": 1,
      "metadata": {
        "id": "6BxPkl9774Ou"
      },
      "outputs": [],
      "source": [
        "import numpy as np"
      ]
    },
    {
      "cell_type": "markdown",
      "source": [
        "Matrix adition"
      ],
      "metadata": {
        "id": "3j8Qgj_V8IWY"
      }
    },
    {
      "cell_type": "markdown",
      "source": [
        "Two matrices can be added if they have same shape"
      ],
      "metadata": {
        "id": "l48ixoGU8NGu"
      }
    },
    {
      "cell_type": "code",
      "source": [
        "#creating two matrices\n",
        "A=np.array([[1,2],[4,5]])\n",
        "B=np.array([[6,7],[8,9]])\n",
        "print(A)\n",
        "print(B)"
      ],
      "metadata": {
        "colab": {
          "base_uri": "https://localhost:8080/"
        },
        "id": "2YddNkgW8GEZ",
        "outputId": "82bb0ef2-1568-4375-8e8d-e1f96f9bddc5"
      },
      "execution_count": 2,
      "outputs": [
        {
          "output_type": "stream",
          "name": "stdout",
          "text": [
            "[[1 2]\n",
            " [4 5]]\n",
            "[[6 7]\n",
            " [8 9]]\n"
          ]
        }
      ]
    },
    {
      "cell_type": "code",
      "source": [
        "A.shape"
      ],
      "metadata": {
        "colab": {
          "base_uri": "https://localhost:8080/"
        },
        "id": "TliEYn928p8R",
        "outputId": "e7db7a72-8630-4e60-b65c-80f3aba2ad90"
      },
      "execution_count": 3,
      "outputs": [
        {
          "output_type": "execute_result",
          "data": {
            "text/plain": [
              "(2, 2)"
            ]
          },
          "metadata": {},
          "execution_count": 3
        }
      ]
    },
    {
      "cell_type": "code",
      "source": [
        "B.shape"
      ],
      "metadata": {
        "colab": {
          "base_uri": "https://localhost:8080/"
        },
        "id": "ZPa8gO1v8spl",
        "outputId": "31c05259-c6fb-41eb-ab50-c9b45517fe8e"
      },
      "execution_count": 4,
      "outputs": [
        {
          "output_type": "execute_result",
          "data": {
            "text/plain": [
              "(2, 2)"
            ]
          },
          "metadata": {},
          "execution_count": 4
        }
      ]
    },
    {
      "cell_type": "markdown",
      "source": [
        "Adding two matrices"
      ],
      "metadata": {
        "id": "3M6ek2rr809X"
      }
    },
    {
      "cell_type": "code",
      "source": [
        "sum=A+B"
      ],
      "metadata": {
        "id": "j_YuC6rh8xlp"
      },
      "execution_count": 5,
      "outputs": []
    },
    {
      "cell_type": "code",
      "source": [
        "print(sum)"
      ],
      "metadata": {
        "colab": {
          "base_uri": "https://localhost:8080/"
        },
        "id": "RrqLWxud870U",
        "outputId": "51fa13d4-65e0-45c6-e905-6f8e4fc7d1d0"
      },
      "execution_count": 6,
      "outputs": [
        {
          "output_type": "stream",
          "name": "stdout",
          "text": [
            "[[ 7  9]\n",
            " [12 14]]\n"
          ]
        }
      ]
    },
    {
      "cell_type": "code",
      "source": [
        "#creating two matrices with random values\n",
        "matrix_1=np.random.randint(10,size=(3,3))\n",
        "matrix_2=np.random.randint(20,size=(3,3))"
      ],
      "metadata": {
        "id": "ZucHpu1R8_sk"
      },
      "execution_count": 8,
      "outputs": []
    },
    {
      "cell_type": "code",
      "source": [
        "print(matrix_1)\n",
        "print(matrix_2)"
      ],
      "metadata": {
        "colab": {
          "base_uri": "https://localhost:8080/"
        },
        "id": "HU1BgvuV9c3u",
        "outputId": "c129754a-3925-49aa-8049-c98342ed4f0f"
      },
      "execution_count": 9,
      "outputs": [
        {
          "output_type": "stream",
          "name": "stdout",
          "text": [
            "[[5 2 4]\n",
            " [4 5 8]\n",
            " [7 0 0]]\n",
            "[[15  7  1]\n",
            " [ 4 17 19]\n",
            " [ 6 12  0]]\n"
          ]
        }
      ]
    },
    {
      "cell_type": "code",
      "source": [
        "sum=matrix_1+matrix_2"
      ],
      "metadata": {
        "id": "8OTBSjh19lZE"
      },
      "execution_count": 10,
      "outputs": []
    },
    {
      "cell_type": "code",
      "source": [
        "print(sum)"
      ],
      "metadata": {
        "colab": {
          "base_uri": "https://localhost:8080/"
        },
        "id": "tM_w9YMb9pMT",
        "outputId": "2d621383-a60b-4cfc-ba0f-6680e6035ac4"
      },
      "execution_count": 12,
      "outputs": [
        {
          "output_type": "stream",
          "name": "stdout",
          "text": [
            "[[20  9  5]\n",
            " [ 8 22 27]\n",
            " [13 12  0]]\n"
          ]
        }
      ]
    },
    {
      "cell_type": "markdown",
      "source": [
        "Matrix subtraction"
      ],
      "metadata": {
        "id": "JPUlpaaO98L6"
      }
    },
    {
      "cell_type": "code",
      "source": [
        "#creating two matrices\n",
        "A=np.array([[1,2],[4,5]])\n",
        "B=np.array([[6,7],[8,9]])\n",
        "print(A)\n",
        "print(B)"
      ],
      "metadata": {
        "colab": {
          "base_uri": "https://localhost:8080/"
        },
        "id": "Jn8ubhOJ9sh8",
        "outputId": "7148b1e7-a3ab-42cf-c3ee-3d7a96fae298"
      },
      "execution_count": 13,
      "outputs": [
        {
          "output_type": "stream",
          "name": "stdout",
          "text": [
            "[[1 2]\n",
            " [4 5]]\n",
            "[[6 7]\n",
            " [8 9]]\n"
          ]
        }
      ]
    },
    {
      "cell_type": "code",
      "source": [
        "difference=A-B"
      ],
      "metadata": {
        "id": "RPQCa0lJ-Y0l"
      },
      "execution_count": 14,
      "outputs": []
    },
    {
      "cell_type": "code",
      "source": [
        "print(difference)"
      ],
      "metadata": {
        "colab": {
          "base_uri": "https://localhost:8080/"
        },
        "id": "4dt04vnB-b5Z",
        "outputId": "69061c88-96a3-4076-a399-c26c66dc5edc"
      },
      "execution_count": 15,
      "outputs": [
        {
          "output_type": "stream",
          "name": "stdout",
          "text": [
            "[[-5 -5]\n",
            " [-4 -4]]\n"
          ]
        }
      ]
    },
    {
      "cell_type": "code",
      "source": [
        "matrix_1=np.random.randint(10,size=(3,3))\n",
        "matrix_2=np.random.randint(20,size=(3,3))\n",
        "print(matrix_1)\n",
        "print(matrix_2)"
      ],
      "metadata": {
        "colab": {
          "base_uri": "https://localhost:8080/"
        },
        "id": "rYjKLiW7-muy",
        "outputId": "6a752c52-2db6-43da-f702-6d95d0a235cc"
      },
      "execution_count": 16,
      "outputs": [
        {
          "output_type": "stream",
          "name": "stdout",
          "text": [
            "[[4 9 0]\n",
            " [0 5 1]\n",
            " [9 4 0]]\n",
            "[[ 7 19 13]\n",
            " [ 9  3  4]\n",
            " [15  5 13]]\n"
          ]
        }
      ]
    },
    {
      "cell_type": "code",
      "source": [
        "diff=np.subtract(matrix_1,matrix_2)\n",
        "print(diff)"
      ],
      "metadata": {
        "colab": {
          "base_uri": "https://localhost:8080/"
        },
        "id": "bYvKK4X__Cr3",
        "outputId": "bd87c110-e1be-41d5-b543-e2bbd7943bf8"
      },
      "execution_count": 18,
      "outputs": [
        {
          "output_type": "stream",
          "name": "stdout",
          "text": [
            "[[ -3 -10 -13]\n",
            " [ -9   2  -3]\n",
            " [ -6  -1 -13]]\n"
          ]
        }
      ]
    },
    {
      "cell_type": "markdown",
      "source": [
        "Multiplying matrix by scalar"
      ],
      "metadata": {
        "id": "02GwH1rF_Zwb"
      }
    },
    {
      "cell_type": "code",
      "source": [
        "x=5\n",
        "y=np.random.randint(10,size=(4,4))\n",
        "print(y)"
      ],
      "metadata": {
        "colab": {
          "base_uri": "https://localhost:8080/"
        },
        "id": "tPUYN7rX_Oby",
        "outputId": "24edf817-ec0a-44a7-b4dd-200bb2517586"
      },
      "execution_count": 19,
      "outputs": [
        {
          "output_type": "stream",
          "name": "stdout",
          "text": [
            "[[4 8 0 6]\n",
            " [6 7 7 1]\n",
            " [9 1 8 5]\n",
            " [8 7 9 6]]\n"
          ]
        }
      ]
    },
    {
      "cell_type": "code",
      "source": [
        "product=np.multiply(x,y)\n",
        "print(product)"
      ],
      "metadata": {
        "colab": {
          "base_uri": "https://localhost:8080/"
        },
        "id": "xkotygo9_x_M",
        "outputId": "fc56d67a-d2ba-4414-8b4b-d94e785c3ec3"
      },
      "execution_count": 20,
      "outputs": [
        {
          "output_type": "stream",
          "name": "stdout",
          "text": [
            "[[20 40  0 30]\n",
            " [30 35 35  5]\n",
            " [45  5 40 25]\n",
            " [40 35 45 30]]\n"
          ]
        }
      ]
    },
    {
      "cell_type": "markdown",
      "source": [
        "Multiplying two matrices"
      ],
      "metadata": {
        "id": "cNdVmoHN_9sY"
      }
    },
    {
      "cell_type": "code",
      "source": [
        "#create two matrices with random values\n",
        "matrix_3=np.random.randint(5,size=(3,3))\n",
        "matrix_4=np.random.randint(5,size=(3,4))\n",
        "print(matrix_3)\n",
        "print(matrix_4)"
      ],
      "metadata": {
        "colab": {
          "base_uri": "https://localhost:8080/"
        },
        "id": "5HdiPfw7_8EK",
        "outputId": "0906abff-2c83-4ea1-f0bd-a3cd8dba9278"
      },
      "execution_count": 21,
      "outputs": [
        {
          "output_type": "stream",
          "name": "stdout",
          "text": [
            "[[2 2 4]\n",
            " [0 2 4]\n",
            " [0 2 3]]\n",
            "[[3 0 3 2]\n",
            " [3 2 1 0]\n",
            " [4 4 3 4]]\n"
          ]
        }
      ]
    },
    {
      "cell_type": "code",
      "source": [
        "product=np.dot(matrix_3,matrix_4)\n",
        "print(product)"
      ],
      "metadata": {
        "colab": {
          "base_uri": "https://localhost:8080/"
        },
        "id": "1Cu9ySXqAuHc",
        "outputId": "6a4357eb-ad18-45dd-d9cd-f08a3f5cdd49"
      },
      "execution_count": 23,
      "outputs": [
        {
          "output_type": "stream",
          "name": "stdout",
          "text": [
            "[[28 20 20 20]\n",
            " [22 20 14 16]\n",
            " [18 16 11 12]]\n"
          ]
        }
      ]
    },
    {
      "cell_type": "code",
      "source": [
        "product.shape"
      ],
      "metadata": {
        "colab": {
          "base_uri": "https://localhost:8080/"
        },
        "id": "-kFYj2rOBF0j",
        "outputId": "88356729-da12-4f34-ad91-c3ce95442f83"
      },
      "execution_count": 24,
      "outputs": [
        {
          "output_type": "execute_result",
          "data": {
            "text/plain": [
              "(3, 4)"
            ]
          },
          "metadata": {},
          "execution_count": 24
        }
      ]
    },
    {
      "cell_type": "markdown",
      "source": [
        "**Element wise multiplication**"
      ],
      "metadata": {
        "id": "Z0_zQ7nqCHOj"
      }
    },
    {
      "cell_type": "code",
      "source": [
        "#create two matrices with random values\n",
        "matrix_3=np.random.randint(5,size=(3,3))\n",
        "matrix_4=np.random.randint(5,size=(3,3))"
      ],
      "metadata": {
        "id": "2wwzHd8HBM0Y"
      },
      "execution_count": 27,
      "outputs": []
    },
    {
      "cell_type": "code",
      "source": [
        "print(matrix_3)\n",
        "print(matrix_4)"
      ],
      "metadata": {
        "colab": {
          "base_uri": "https://localhost:8080/"
        },
        "id": "w7iY_GNoCSrc",
        "outputId": "0bb4aae2-1c97-479e-c073-22860ebce9dd"
      },
      "execution_count": 28,
      "outputs": [
        {
          "output_type": "stream",
          "name": "stdout",
          "text": [
            "[[4 3 3]\n",
            " [3 4 3]\n",
            " [3 4 3]]\n",
            "[[1 4 0]\n",
            " [2 4 4]\n",
            " [4 0 0]]\n"
          ]
        }
      ]
    },
    {
      "cell_type": "code",
      "source": [
        "product=np.multiply(matrix_3,matrix_4)\n",
        "print(product)"
      ],
      "metadata": {
        "colab": {
          "base_uri": "https://localhost:8080/"
        },
        "id": "ig33WyunCX-f",
        "outputId": "7d57f3a9-0b32-4e2c-e844-a87970ab86a6"
      },
      "execution_count": 29,
      "outputs": [
        {
          "output_type": "stream",
          "name": "stdout",
          "text": [
            "[[ 4 12  0]\n",
            " [ 6 16 12]\n",
            " [12  0  0]]\n"
          ]
        }
      ]
    }
  ]
}